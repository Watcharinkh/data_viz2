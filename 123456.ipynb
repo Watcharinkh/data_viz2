{
  "nbformat": 4,
  "nbformat_minor": 0,
  "metadata": {
    "colab": {
      "name": "123456.ipynb",
      "provenance": [],
      "authorship_tag": "ABX9TyMVYCpdbSk0jQSbrhOk0wRu",
      "include_colab_link": true
    },
    "kernelspec": {
      "name": "python3",
      "display_name": "Python 3"
    }
  },
  "cells": [
    {
      "cell_type": "markdown",
      "metadata": {
        "id": "view-in-github",
        "colab_type": "text"
      },
      "source": [
        "<a href=\"https://colab.research.google.com/github/Watcharinkh/data_viz2/blob/main/123456.ipynb\" target=\"_parent\"><img src=\"https://colab.research.google.com/assets/colab-badge.svg\" alt=\"Open In Colab\"/></a>"
      ]
    },
    {
      "cell_type": "markdown",
      "metadata": {
        "id": "mLJEm7KAweNr"
      },
      "source": [
        "#การบ้านครั้งที่ 1"
      ]
    },
    {
      "cell_type": "code",
      "metadata": {
        "id": "ZDuYFNjDwjKT"
      },
      "source": [
        ""
      ],
      "execution_count": null,
      "outputs": []
    }
  ]
}